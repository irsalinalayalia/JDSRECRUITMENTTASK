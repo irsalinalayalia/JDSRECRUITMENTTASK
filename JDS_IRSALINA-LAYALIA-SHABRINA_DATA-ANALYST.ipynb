{
 "cells": [
  {
   "cell_type": "markdown",
   "metadata": {},
   "source": [
    "# IRSALINA LAYALIA SHABRINA"
   ]
  },
  {
   "cell_type": "markdown",
   "metadata": {},
   "source": [
    "# JABAR DIGITAL SERVICE - RECRUITMENT TASK (DATA NILAI PEGAWAI)"
   ]
  },
  {
   "cell_type": "markdown",
   "metadata": {},
   "source": [
    "Data Nilai Pegawai diperoleh dari https://digitalservice.jabarprov.go.id/. Dataset ini berkaitan dengan performa kinerja Aparatur Sipil Negara dengan melakukan penilaian pada setiap pegawai. Nilai yang dihasilkan merupakan hasil kalkulasi pembobotan dari beberapa kriteria yang sudah ditentukan. Variabel pada Data Nilai Pegawai antara lain\n",
    "1. ID Person : merupakan no identitas setiap pegawai\n",
    "2. Tingkat Pendidikan Akhir : pendidikan akhir yang ditempuh oleh setiap pegawai\n",
    "3. Usia : usia setiap pegawai saat ini\n",
    "4. Satuan Kerja : satuan kerja dimana pegawai bekerja\n",
    "5. Bulan : bulan ketika penilaian tiap pegawai dilakukan\n",
    "6. Nilai : Nilai yang dihasilkan merupakan hasil kalkulasi pembobotan dari beberapa kriteria yang sudah ditentukan."
   ]
  },
  {
   "cell_type": "code",
   "execution_count": 1,
   "metadata": {},
   "outputs": [],
   "source": [
    "#IMPORT LIBRARY\n",
    "import pandas as pd\n",
    "import numpy as np\n",
    "import matplotlib.pyplot as plt\n",
    "import seaborn as sns"
   ]
  },
  {
   "cell_type": "code",
   "execution_count": 2,
   "metadata": {},
   "outputs": [
    {
     "data": {
      "text/html": [
       "<div>\n",
       "<style scoped>\n",
       "    .dataframe tbody tr th:only-of-type {\n",
       "        vertical-align: middle;\n",
       "    }\n",
       "\n",
       "    .dataframe tbody tr th {\n",
       "        vertical-align: top;\n",
       "    }\n",
       "\n",
       "    .dataframe thead th {\n",
       "        text-align: right;\n",
       "    }\n",
       "</style>\n",
       "<table border=\"1\" class=\"dataframe\">\n",
       "  <thead>\n",
       "    <tr style=\"text-align: right;\">\n",
       "      <th></th>\n",
       "      <th>ID PERSON</th>\n",
       "      <th>Tingkat Pendidikan Akhir</th>\n",
       "      <th>Usia</th>\n",
       "      <th>Satuan Kerja</th>\n",
       "      <th>Bulan</th>\n",
       "      <th>Nilai</th>\n",
       "    </tr>\n",
       "  </thead>\n",
       "  <tbody>\n",
       "    <tr>\n",
       "      <th>0</th>\n",
       "      <td>1001</td>\n",
       "      <td>S3</td>\n",
       "      <td>61</td>\n",
       "      <td>DINAS B</td>\n",
       "      <td>Juli</td>\n",
       "      <td>7.88436</td>\n",
       "    </tr>\n",
       "    <tr>\n",
       "      <th>1</th>\n",
       "      <td>1002</td>\n",
       "      <td>SLTA</td>\n",
       "      <td>59</td>\n",
       "      <td>DINAS A</td>\n",
       "      <td>Juli</td>\n",
       "      <td>6.95183</td>\n",
       "    </tr>\n",
       "    <tr>\n",
       "      <th>2</th>\n",
       "      <td>1003</td>\n",
       "      <td>S2</td>\n",
       "      <td>57</td>\n",
       "      <td>BADAN D</td>\n",
       "      <td>Juli</td>\n",
       "      <td>8.18452</td>\n",
       "    </tr>\n",
       "    <tr>\n",
       "      <th>3</th>\n",
       "      <td>1004</td>\n",
       "      <td>SD</td>\n",
       "      <td>56</td>\n",
       "      <td>DINAS B</td>\n",
       "      <td>Juli</td>\n",
       "      <td>6.55612</td>\n",
       "    </tr>\n",
       "    <tr>\n",
       "      <th>4</th>\n",
       "      <td>1005</td>\n",
       "      <td>D3</td>\n",
       "      <td>54</td>\n",
       "      <td>DINAS B</td>\n",
       "      <td>Juli</td>\n",
       "      <td>6.34694</td>\n",
       "    </tr>\n",
       "  </tbody>\n",
       "</table>\n",
       "</div>"
      ],
      "text/plain": [
       "   ID PERSON Tingkat Pendidikan Akhir  Usia Satuan Kerja Bulan    Nilai\n",
       "0       1001                       S3    61      DINAS B  Juli  7.88436\n",
       "1       1002                     SLTA    59      DINAS A  Juli  6.95183\n",
       "2       1003                       S2    57      BADAN D  Juli  8.18452\n",
       "3       1004                       SD    56      DINAS B  Juli  6.55612\n",
       "4       1005                       D3    54      DINAS B  Juli  6.34694"
      ]
     },
     "execution_count": 2,
     "metadata": {},
     "output_type": "execute_result"
    }
   ],
   "source": [
    "#IMPORT DATA\n",
    "data=pd.read_excel('F://APPLY KERJA/APPLY/JABAR DIGITAL SERVICE/DATA ANALYST/Data Nilai Pegawai.xlsx')\n",
    "data.head()"
   ]
  },
  {
   "cell_type": "code",
   "execution_count": 3,
   "metadata": {},
   "outputs": [
    {
     "data": {
      "text/plain": [
       "(30, 6)"
      ]
     },
     "execution_count": 3,
     "metadata": {},
     "output_type": "execute_result"
    }
   ],
   "source": [
    "data.shape"
   ]
  },
  {
   "cell_type": "markdown",
   "metadata": {},
   "source": [
    "# Identifikasi Missing Values "
   ]
  },
  {
   "cell_type": "code",
   "execution_count": 4,
   "metadata": {},
   "outputs": [
    {
     "data": {
      "text/plain": [
       "ID PERSON                   0\n",
       "Tingkat Pendidikan Akhir    0\n",
       "Usia                        0\n",
       "Satuan Kerja                0\n",
       "Bulan                       0\n",
       "Nilai                       0\n",
       "dtype: int64"
      ]
     },
     "execution_count": 4,
     "metadata": {},
     "output_type": "execute_result"
    }
   ],
   "source": [
    "np.sum(data.isnull())"
   ]
  },
  {
   "cell_type": "markdown",
   "metadata": {},
   "source": [
    "Tidak terdapat observasi yang mengandung missing value"
   ]
  },
  {
   "cell_type": "markdown",
   "metadata": {},
   "source": [
    "# Statistika Deskriptif"
   ]
  },
  {
   "cell_type": "code",
   "execution_count": 5,
   "metadata": {},
   "outputs": [
    {
     "name": "stdout",
     "output_type": "stream",
     "text": [
      "<class 'pandas.core.frame.DataFrame'>\n",
      "RangeIndex: 30 entries, 0 to 29\n",
      "Data columns (total 6 columns):\n",
      "ID PERSON                   30 non-null int64\n",
      "Tingkat Pendidikan Akhir    30 non-null object\n",
      "Usia                        30 non-null int64\n",
      "Satuan Kerja                30 non-null object\n",
      "Bulan                       30 non-null object\n",
      "Nilai                       30 non-null float64\n",
      "dtypes: float64(1), int64(2), object(3)\n",
      "memory usage: 1.5+ KB\n"
     ]
    }
   ],
   "source": [
    "data.info()"
   ]
  },
  {
   "cell_type": "markdown",
   "metadata": {},
   "source": [
    "Pada dataset digunakan tiga tipe data yaitu integer dan float yang termasuk ke dalam tipe data numerik dan object memiliki tipe data kategorik"
   ]
  },
  {
   "cell_type": "code",
   "execution_count": 6,
   "metadata": {},
   "outputs": [
    {
     "data": {
      "text/html": [
       "<div>\n",
       "<style scoped>\n",
       "    .dataframe tbody tr th:only-of-type {\n",
       "        vertical-align: middle;\n",
       "    }\n",
       "\n",
       "    .dataframe tbody tr th {\n",
       "        vertical-align: top;\n",
       "    }\n",
       "\n",
       "    .dataframe thead th {\n",
       "        text-align: right;\n",
       "    }\n",
       "</style>\n",
       "<table border=\"1\" class=\"dataframe\">\n",
       "  <thead>\n",
       "    <tr style=\"text-align: right;\">\n",
       "      <th></th>\n",
       "      <th>ID PERSON</th>\n",
       "      <th>Usia</th>\n",
       "      <th>Nilai</th>\n",
       "    </tr>\n",
       "  </thead>\n",
       "  <tbody>\n",
       "    <tr>\n",
       "      <th>count</th>\n",
       "      <td>30.000000</td>\n",
       "      <td>30.000000</td>\n",
       "      <td>30.000000</td>\n",
       "    </tr>\n",
       "    <tr>\n",
       "      <th>mean</th>\n",
       "      <td>1015.500000</td>\n",
       "      <td>40.233333</td>\n",
       "      <td>7.185791</td>\n",
       "    </tr>\n",
       "    <tr>\n",
       "      <th>std</th>\n",
       "      <td>8.803408</td>\n",
       "      <td>10.753294</td>\n",
       "      <td>0.484566</td>\n",
       "    </tr>\n",
       "    <tr>\n",
       "      <th>min</th>\n",
       "      <td>1001.000000</td>\n",
       "      <td>25.000000</td>\n",
       "      <td>6.346940</td>\n",
       "    </tr>\n",
       "    <tr>\n",
       "      <th>25%</th>\n",
       "      <td>1008.250000</td>\n",
       "      <td>32.500000</td>\n",
       "      <td>6.964457</td>\n",
       "    </tr>\n",
       "    <tr>\n",
       "      <th>50%</th>\n",
       "      <td>1015.500000</td>\n",
       "      <td>41.000000</td>\n",
       "      <td>7.179420</td>\n",
       "    </tr>\n",
       "    <tr>\n",
       "      <th>75%</th>\n",
       "      <td>1022.750000</td>\n",
       "      <td>47.000000</td>\n",
       "      <td>7.452400</td>\n",
       "    </tr>\n",
       "    <tr>\n",
       "      <th>max</th>\n",
       "      <td>1030.000000</td>\n",
       "      <td>61.000000</td>\n",
       "      <td>8.403630</td>\n",
       "    </tr>\n",
       "  </tbody>\n",
       "</table>\n",
       "</div>"
      ],
      "text/plain": [
       "         ID PERSON       Usia      Nilai\n",
       "count    30.000000  30.000000  30.000000\n",
       "mean   1015.500000  40.233333   7.185791\n",
       "std       8.803408  10.753294   0.484566\n",
       "min    1001.000000  25.000000   6.346940\n",
       "25%    1008.250000  32.500000   6.964457\n",
       "50%    1015.500000  41.000000   7.179420\n",
       "75%    1022.750000  47.000000   7.452400\n",
       "max    1030.000000  61.000000   8.403630"
      ]
     },
     "execution_count": 6,
     "metadata": {},
     "output_type": "execute_result"
    }
   ],
   "source": [
    "data.describe()"
   ]
  },
  {
   "cell_type": "code",
   "execution_count": 7,
   "metadata": {},
   "outputs": [
    {
     "data": {
      "text/plain": [
       "Satuan Kerja\n",
       "BADAN B    5\n",
       "BADAN D    5\n",
       "DINAS A    5\n",
       "DINAS B    5\n",
       "DINAS F    5\n",
       "DINAS P    5\n",
       "dtype: int64"
      ]
     },
     "execution_count": 7,
     "metadata": {},
     "output_type": "execute_result"
    }
   ],
   "source": [
    "data.groupby(['Satuan Kerja']).size()"
   ]
  },
  {
   "cell_type": "code",
   "execution_count": 8,
   "metadata": {},
   "outputs": [],
   "source": [
    "data_sat=data.select_dtypes(include=['object']).copy()"
   ]
  },
  {
   "cell_type": "code",
   "execution_count": 9,
   "metadata": {},
   "outputs": [
    {
     "data": {
      "image/png": "[encoded data removed]",
      "text/plain": [
       "<Figure size 432x288 with 1 Axes>"
      ]
     },
     "metadata": {},
     "output_type": "display_data"
    }
   ],
   "source": [
    "#Pie Chart pada satuan kerja\n",
    "labels = data_sat['Satuan Kerja'].astype('category').cat.categories.tolist()\n",
    "counts = data_sat['Satuan Kerja'].value_counts()\n",
    "sizes = [counts[var_cat] for var_cat in labels]\n",
    "fig1, ax1 = plt.subplots()\n",
    "ax1.pie(sizes, labels=labels, autopct='%1.1f%%',wedgeprops = { 'linewidth' : 10, 'edgecolor' : 'white' }) #autopct is show the % on plot\n",
    "ax1.axis('equal')\n",
    "plt.show()"
   ]
  },
  {
   "cell_type": "code",
   "execution_count": 10,
   "metadata": {},
   "outputs": [
    {
     "data": {
      "text/plain": [
       "Tingkat Pendidikan Akhir\n",
       "D3       5\n",
       "D4       3\n",
       "S1      14\n",
       "S2       1\n",
       "S3       1\n",
       "SD       1\n",
       "SLTA     4\n",
       "SLTP     1\n",
       "dtype: int64"
      ]
     },
     "execution_count": 10,
     "metadata": {},
     "output_type": "execute_result"
    }
   ],
   "source": [
    "data.groupby(['Tingkat Pendidikan Akhir']).size()"
   ]
  },
  {
   "cell_type": "code",
   "execution_count": 11,
   "metadata": {},
   "outputs": [],
   "source": [
    "data_pen=data.select_dtypes(include=['object']).copy()"
   ]
  },
  {
   "cell_type": "code",
   "execution_count": 12,
   "metadata": {},
   "outputs": [
    {
     "data": {
      "image/png": "[encoded data removed]",
      "text/plain": [
       "<Figure size 432x288 with 1 Axes>"
      ]
     },
     "metadata": {},
     "output_type": "display_data"
    }
   ],
   "source": [
    "import seaborn as sns\n",
    "import matplotlib.pyplot as plt\n",
    "data_pen_count = data_pen['Tingkat Pendidikan Akhir'].value_counts()\n",
    "sns.set(style=\"darkgrid\")\n",
    "sns.barplot(data_pen_count.index, data_pen_count.values, alpha=0.9)\n",
    "plt.title('Data Pendidikan Akhir Pegawai')\n",
    "plt.ylabel('Jumlah Pegawai', fontsize=12)\n",
    "plt.xlabel('Tingkat Pendidikan Akhir', fontsize=12)\n",
    "plt.show()"
   ]
  },
  {
   "cell_type": "markdown",
   "metadata": {},
   "source": [
    "# Clustering"
   ]
  },
  {
   "cell_type": "code",
   "execution_count": 69,
   "metadata": {},
   "outputs": [
    {
     "data": {
      "text/html": [
       "<div>\n",
       "<style scoped>\n",
       "    .dataframe tbody tr th:only-of-type {\n",
       "        vertical-align: middle;\n",
       "    }\n",
       "\n",
       "    .dataframe tbody tr th {\n",
       "        vertical-align: top;\n",
       "    }\n",
       "\n",
       "    .dataframe thead th {\n",
       "        text-align: right;\n",
       "    }\n",
       "</style>\n",
       "<table border=\"1\" class=\"dataframe\">\n",
       "  <thead>\n",
       "    <tr style=\"text-align: right;\">\n",
       "      <th></th>\n",
       "      <th>Usia</th>\n",
       "      <th>Nilai</th>\n",
       "    </tr>\n",
       "  </thead>\n",
       "  <tbody>\n",
       "    <tr>\n",
       "      <th>0</th>\n",
       "      <td>61</td>\n",
       "      <td>7.88436</td>\n",
       "    </tr>\n",
       "    <tr>\n",
       "      <th>1</th>\n",
       "      <td>59</td>\n",
       "      <td>6.95183</td>\n",
       "    </tr>\n",
       "    <tr>\n",
       "      <th>2</th>\n",
       "      <td>57</td>\n",
       "      <td>8.18452</td>\n",
       "    </tr>\n",
       "    <tr>\n",
       "      <th>3</th>\n",
       "      <td>56</td>\n",
       "      <td>6.55612</td>\n",
       "    </tr>\n",
       "    <tr>\n",
       "      <th>4</th>\n",
       "      <td>54</td>\n",
       "      <td>6.34694</td>\n",
       "    </tr>\n",
       "  </tbody>\n",
       "</table>\n",
       "</div>"
      ],
      "text/plain": [
       "   Usia    Nilai\n",
       "0    61  7.88436\n",
       "1    59  6.95183\n",
       "2    57  8.18452\n",
       "3    56  6.55612\n",
       "4    54  6.34694"
      ]
     },
     "execution_count": 69,
     "metadata": {},
     "output_type": "execute_result"
    }
   ],
   "source": [
    "X=data.filter(items=['Usia','Nilai'])\n",
    "X.head()"
   ]
  },
  {
   "cell_type": "code",
   "execution_count": 70,
   "metadata": {},
   "outputs": [],
   "source": [
    "X=X.values"
   ]
  },
  {
   "cell_type": "code",
   "execution_count": 16,
   "metadata": {},
   "outputs": [
    {
     "name": "stdout",
     "output_type": "stream",
     "text": [
      "Collecting package metadata (repodata.json): ...working... done\n",
      "Solving environment: ...working... done\n",
      "\n",
      "## Package Plan ##\n",
      "\n",
      "  environment location: C:\\Users\\user\\Anaconda3\n",
      "\n",
      "  added / updated specs:\n",
      "    - yellowbrick\n",
      "\n",
      "\n",
      "The following packages will be downloaded:\n",
      "\n",
      "    package                    |            build\n",
      "    ---------------------------|-----------------\n",
      "    ca-certificates-2019.11.27 |                0         163 KB\n",
      "    certifi-2019.11.28         |           py37_0         157 KB\n",
      "    conda-4.8.1                |           py37_0         3.0 MB\n",
      "    ------------------------------------------------------------\n",
      "                                           Total:         3.4 MB\n",
      "\n",
      "The following packages will be UPDATED:\n",
      "\n",
      "  ca-certificates                              2019.10.16-0 --> 2019.11.27-0\n",
      "  certifi                                  2019.9.11-py37_0 --> 2019.11.28-py37_0\n",
      "  conda                    conda-forge::conda-4.7.12-py37_0 --> pkgs/main::conda-4.8.1-py37_0\n",
      "\n",
      "\n",
      "\n",
      "Downloading and Extracting Packages\n",
      "\n",
      "ca-certificates-2019 | 163 KB    |            |   0% \n",
      "ca-certificates-2019 | 163 KB    | 9          |  10% \n",
      "ca-certificates-2019 | 163 KB    | #9         |  20% \n",
      "ca-certificates-2019 | 163 KB    | ##9        |  29% \n",
      "ca-certificates-2019 | 163 KB    | ###9       |  39% \n",
      "ca-certificates-2019 | 163 KB    | ####8      |  49% \n",
      "ca-certificates-2019 | 163 KB    | #####8     |  59% \n",
      "ca-certificates-2019 | 163 KB    | ######8    |  69% \n",
      "ca-certificates-2019 | 163 KB    | ########## | 100% \n",
      "\n",
      "certifi-2019.11.28   | 157 KB    |            |   0% \n",
      "certifi-2019.11.28   | 157 KB    | #          |  10% \n",
      "certifi-2019.11.28   | 157 KB    | ##         |  20% \n",
      "certifi-2019.11.28   | 157 KB    | ###        |  31% \n",
      "certifi-2019.11.28   | 157 KB    | ####       |  41% \n",
      "certifi-2019.11.28   | 157 KB    | #####1     |  51% \n",
      "certifi-2019.11.28   | 157 KB    | ######1    |  61% \n",
      "certifi-2019.11.28   | 157 KB    | #######1   |  72% \n",
      "certifi-2019.11.28   | 157 KB    | ########1  |  82% \n",
      "certifi-2019.11.28   | 157 KB    | #########1 |  92% \n",
      "certifi-2019.11.28   | 157 KB    | ########## | 100% \n",
      "\n",
      "conda-4.8.1          | 3.0 MB    |            |   0% \n",
      "conda-4.8.1          | 3.0 MB    |            |   1% \n",
      "conda-4.8.1          | 3.0 MB    | 1          |   2% \n",
      "conda-4.8.1          | 3.0 MB    | 2          |   3% \n",
      "conda-4.8.1          | 3.0 MB    | 3          |   3% \n",
      "conda-4.8.1          | 3.0 MB    | 3          |   4% \n",
      "conda-4.8.1          | 3.0 MB    | 4          |   4% \n",
      "conda-4.8.1          | 3.0 MB    | 4          |   5% \n",
      "conda-4.8.1          | 3.0 MB    | 5          |   5% \n",
      "conda-4.8.1          | 3.0 MB    | 5          |   6% \n",
      "conda-4.8.1          | 3.0 MB    | 6          |   6% \n",
      "conda-4.8.1          | 3.0 MB    | 6          |   7% \n",
      "conda-4.8.1          | 3.0 MB    | 7          |   7% \n",
      "conda-4.8.1          | 3.0 MB    | 7          |   8% \n",
      "conda-4.8.1          | 3.0 MB    | 8          |   8% \n",
      "conda-4.8.1          | 3.0 MB    | 8          |   9% \n",
      "conda-4.8.1          | 3.0 MB    | 9          |   9% \n",
      "conda-4.8.1          | 3.0 MB    | 9          |  10% \n",
      "conda-4.8.1          | 3.0 MB    | #          |  10% \n",
      "conda-4.8.1          | 3.0 MB    | #          |  11% \n",
      "conda-4.8.1          | 3.0 MB    | #1         |  11% \n",
      "conda-4.8.1          | 3.0 MB    | #1         |  12% \n",
      "conda-4.8.1          | 3.0 MB    | #2         |  12% \n",
      "conda-4.8.1          | 3.0 MB    | #2         |  13% \n",
      "conda-4.8.1          | 3.0 MB    | #3         |  13% \n",
      "conda-4.8.1          | 3.0 MB    | #3         |  14% \n",
      "conda-4.8.1          | 3.0 MB    | #4         |  14% \n",
      "conda-4.8.1          | 3.0 MB    | #4         |  15% \n",
      "conda-4.8.1          | 3.0 MB    | #5         |  15% \n",
      "conda-4.8.1          | 3.0 MB    | #5         |  16% \n",
      "conda-4.8.1          | 3.0 MB    | #6         |  16% \n",
      "conda-4.8.1          | 3.0 MB    | #6         |  17% \n",
      "conda-4.8.1          | 3.0 MB    | #7         |  17% \n",
      "conda-4.8.1          | 3.0 MB    | #7         |  18% \n",
      "conda-4.8.1          | 3.0 MB    | #8         |  18% \n",
      "conda-4.8.1          | 3.0 MB    | #8         |  19% \n",
      "conda-4.8.1          | 3.0 MB    | #9         |  19% \n",
      "conda-4.8.1          | 3.0 MB    | #9         |  20% \n",
      "conda-4.8.1          | 3.0 MB    | ##         |  21% \n",
      "conda-4.8.1          | 3.0 MB    | ##1        |  21% \n",
      "conda-4.8.1          | 3.0 MB    | ##1        |  22% \n",
      "conda-4.8.1          | 3.0 MB    | ##2        |  22% \n",
      "conda-4.8.1          | 3.0 MB    | ##2        |  23% \n",
      "conda-4.8.1          | 3.0 MB    | ##3        |  23% \n",
      "conda-4.8.1          | 3.0 MB    | ##3        |  24% \n",
      "conda-4.8.1          | 3.0 MB    | ##4        |  24% \n",
      "conda-4.8.1          | 3.0 MB    | ##4        |  25% \n",
      "conda-4.8.1          | 3.0 MB    | ##5        |  25% \n",
      "conda-4.8.1          | 3.0 MB    | ##5        |  26% \n",
      "conda-4.8.1          | 3.0 MB    | ##6        |  26% \n",
      "conda-4.8.1          | 3.0 MB    | ##6        |  27% \n",
      "conda-4.8.1          | 3.0 MB    | ##7        |  27% \n",
      "conda-4.8.1          | 3.0 MB    | ##7        |  28% \n",
      "conda-4.8.1          | 3.0 MB    | ##8        |  28% \n",
      "conda-4.8.1          | 3.0 MB    | ##8        |  29% \n",
      "conda-4.8.1          | 3.0 MB    | ##9        |  29% \n",
      "conda-4.8.1          | 3.0 MB    | ##9        |  30% \n",
      "conda-4.8.1          | 3.0 MB    | ###        |  30% \n",
      "conda-4.8.1          | 3.0 MB    | ###        |  31% \n",
      "conda-4.8.1          | 3.0 MB    | ###1       |  31% \n",
      "conda-4.8.1          | 3.0 MB    | ###1       |  32% \n",
      "conda-4.8.1          | 3.0 MB    | ###2       |  32% \n",
      "conda-4.8.1          | 3.0 MB    | ###3       |  33% \n",
      "conda-4.8.1          | 3.0 MB    | ###3       |  34% \n",
      "conda-4.8.1          | 3.0 MB    | ###4       |  34% \n",
      "conda-4.8.1          | 3.0 MB    | ###4       |  35% \n",
      "conda-4.8.1          | 3.0 MB    | ###5       |  35% \n",
      "conda-4.8.1          | 3.0 MB    | ###5       |  36% \n",
      "conda-4.8.1          | 3.0 MB    | ###6       |  36% \n",
      "conda-4.8.1          | 3.0 MB    | ###6       |  37% \n",
      "conda-4.8.1          | 3.0 MB    | ###7       |  37% \n",
      "conda-4.8.1          | 3.0 MB    | ###7       |  38% \n",
      "conda-4.8.1          | 3.0 MB    | ###8       |  38% \n",
      "conda-4.8.1          | 3.0 MB    | ###8       |  39% \n",
      "conda-4.8.1          | 3.0 MB    | ###9       |  39% \n",
      "conda-4.8.1          | 3.0 MB    | ###9       |  40% \n",
      "conda-4.8.1          | 3.0 MB    | ####       |  40% \n",
      "conda-4.8.1          | 3.0 MB    | ####1      |  41% \n",
      "conda-4.8.1          | 3.0 MB    | ####1      |  42% \n",
      "conda-4.8.1          | 3.0 MB    | ####2      |  42% \n",
      "conda-4.8.1          | 3.0 MB    | ####2      |  43% \n",
      "conda-4.8.1          | 3.0 MB    | ####3      |  43% \n",
      "conda-4.8.1          | 3.0 MB    | ####3      |  44% \n",
      "conda-4.8.1          | 3.0 MB    | ####4      |  44% \n",
      "conda-4.8.1          | 3.0 MB    | ####4      |  45% \n",
      "conda-4.8.1          | 3.0 MB    | ####5      |  45% \n",
      "conda-4.8.1          | 3.0 MB    | ####5      |  46% \n",
      "conda-4.8.1          | 3.0 MB    | ####6      |  46% \n",
      "conda-4.8.1          | 3.0 MB    | ####6      |  47% \n",
      "conda-4.8.1          | 3.0 MB    | ####7      |  47% \n",
      "conda-4.8.1          | 3.0 MB    | ####7      |  48% \n",
      "conda-4.8.1          | 3.0 MB    | ####8      |  48% \n",
      "conda-4.8.1          | 3.0 MB    | ####8      |  49% \n",
      "conda-4.8.1          | 3.0 MB    | ####9      |  49% \n",
      "conda-4.8.1          | 3.0 MB    | ####9      |  50% \n",
      "conda-4.8.1          | 3.0 MB    | #####      |  50% \n",
      "conda-4.8.1          | 3.0 MB    | #####      |  51% \n",
      "conda-4.8.1          | 3.0 MB    | #####1     |  51% \n",
      "conda-4.8.1          | 3.0 MB    | #####1     |  52% \n",
      "conda-4.8.1          | 3.0 MB    | #####2     |  52% \n",
      "conda-4.8.1          | 3.0 MB    | #####2     |  53% \n",
      "conda-4.8.1          | 3.0 MB    | #####3     |  53% \n",
      "conda-4.8.1          | 3.0 MB    | #####3     |  54% \n",
      "conda-4.8.1          | 3.0 MB    | #####4     |  55% \n",
      "conda-4.8.1          | 3.0 MB    | #####5     |  55% \n",
      "conda-4.8.1          | 3.0 MB    | #####5     |  56% \n",
      "conda-4.8.1          | 3.0 MB    | #####6     |  56% \n",
      "conda-4.8.1          | 3.0 MB    | #####6     |  57% \n",
      "conda-4.8.1          | 3.0 MB    | #####7     |  58% \n",
      "conda-4.8.1          | 3.0 MB    | #####8     |  58% \n",
      "conda-4.8.1          | 3.0 MB    | #####8     |  59% \n",
      "conda-4.8.1          | 3.0 MB    | #####9     |  59% \n",
      "conda-4.8.1          | 3.0 MB    | #####9     |  60% \n",
      "conda-4.8.1          | 3.0 MB    | ######     |  60% \n",
      "conda-4.8.1          | 3.0 MB    | ######     |  61% \n",
      "conda-4.8.1          | 3.0 MB    | ######1    |  62% \n",
      "conda-4.8.1          | 3.0 MB    | ######2    |  62% \n",
      "conda-4.8.1          | 3.0 MB    | ######2    |  63% \n",
      "conda-4.8.1          | 3.0 MB    | ######3    |  63% \n",
      "conda-4.8.1          | 3.0 MB    | ######3    |  64% \n",
      "conda-4.8.1          | 3.0 MB    | ######4    |  64% \n",
      "conda-4.8.1          | 3.0 MB    | ######4    |  65% \n",
      "conda-4.8.1          | 3.0 MB    | ######5    |  65% \n",
      "conda-4.8.1          | 3.0 MB    | ######5    |  66% \n",
      "conda-4.8.1          | 3.0 MB    | ######6    |  66% \n",
      "conda-4.8.1          | 3.0 MB    | ######6    |  67% \n",
      "conda-4.8.1          | 3.0 MB    | ######7    |  67% \n",
      "conda-4.8.1          | 3.0 MB    | ######7    |  68% \n",
      "conda-4.8.1          | 3.0 MB    | ######8    |  68% \n",
      "conda-4.8.1          | 3.0 MB    | ######8    |  69% \n",
      "conda-4.8.1          | 3.0 MB    | ######9    |  69% \n",
      "conda-4.8.1          | 3.0 MB    | ######9    |  70% \n",
      "conda-4.8.1          | 3.0 MB    | #######    |  70% \n",
      "conda-4.8.1          | 3.0 MB    | #######    |  71% \n",
      "conda-4.8.1          | 3.0 MB    | #######1   |  71% \n",
      "conda-4.8.1          | 3.0 MB    | #######1   |  72% \n",
      "conda-4.8.1          | 3.0 MB    | #######2   |  73% \n",
      "conda-4.8.1          | 3.0 MB    | #######3   |  73% \n",
      "conda-4.8.1          | 3.0 MB    | #######3   |  74% \n",
      "conda-4.8.1          | 3.0 MB    | #######4   |  74% \n",
      "conda-4.8.1          | 3.0 MB    | #######4   |  75% \n",
      "conda-4.8.1          | 3.0 MB    | #######6   |  77% \n",
      "conda-4.8.1          | 3.0 MB    | #######7   |  77% \n",
      "conda-4.8.1          | 3.0 MB    | #######7   |  78% \n",
      "conda-4.8.1          | 3.0 MB    | #######8   |  78% \n",
      "conda-4.8.1          | 3.0 MB    | #######8   |  79% \n",
      "conda-4.8.1          | 3.0 MB    | #######9   |  79% \n",
      "conda-4.8.1          | 3.0 MB    | #######9   |  80% \n",
      "conda-4.8.1          | 3.0 MB    | ########   |  80% \n",
      "conda-4.8.1          | 3.0 MB    | ########   |  81% \n",
      "conda-4.8.1          | 3.0 MB    | ########1  |  82% \n",
      "conda-4.8.1          | 3.0 MB    | ########2  |  83% \n",
      "conda-4.8.1          | 3.0 MB    | ########3  |  83% \n",
      "conda-4.8.1          | 3.0 MB    | ########3  |  84% \n",
      "conda-4.8.1          | 3.0 MB    | ########4  |  84% \n",
      "conda-4.8.1          | 3.0 MB    | ########4  |  85% \n",
      "conda-4.8.1          | 3.0 MB    | ########5  |  85% \n",
      "conda-4.8.1          | 3.0 MB    | ########5  |  86% \n",
      "conda-4.8.1          | 3.0 MB    | ########6  |  86% \n",
      "conda-4.8.1          | 3.0 MB    | ########6  |  87% \n",
      "conda-4.8.1          | 3.0 MB    | ########7  |  87% \n",
      "conda-4.8.1          | 3.0 MB    | ########7  |  88% \n",
      "conda-4.8.1          | 3.0 MB    | ########8  |  88% \n",
      "conda-4.8.1          | 3.0 MB    | ########8  |  89% \n",
      "conda-4.8.1          | 3.0 MB    | ########9  |  89% \n",
      "conda-4.8.1          | 3.0 MB    | ########9  |  90% \n",
      "conda-4.8.1          | 3.0 MB    | #########  |  91% \n",
      "conda-4.8.1          | 3.0 MB    | #########1 |  91% \n",
      "conda-4.8.1          | 3.0 MB    | #########1 |  92% \n",
      "conda-4.8.1          | 3.0 MB    | #########2 |  92% \n",
      "conda-4.8.1          | 3.0 MB    | #########2 |  93% \n",
      "conda-4.8.1          | 3.0 MB    | #########3 |  93% \n",
      "conda-4.8.1          | 3.0 MB    | #########3 |  94% \n",
      "conda-4.8.1          | 3.0 MB    | #########4 |  94% \n",
      "conda-4.8.1          | 3.0 MB    | #########4 |  95% \n",
      "conda-4.8.1          | 3.0 MB    | #########5 |  95% \n",
      "conda-4.8.1          | 3.0 MB    | #########5 |  96% \n",
      "conda-4.8.1          | 3.0 MB    | #########6 |  96% \n",
      "conda-4.8.1          | 3.0 MB    | #########6 |  97% \n",
      "conda-4.8.1          | 3.0 MB    | #########7 |  97% \n",
      "conda-4.8.1          | 3.0 MB    | #########7 |  98% \n",
      "conda-4.8.1          | 3.0 MB    | #########8 |  98% \n",
      "conda-4.8.1          | 3.0 MB    | #########8 |  99% \n",
      "conda-4.8.1          | 3.0 MB    | #########9 |  99% \n",
      "conda-4.8.1          | 3.0 MB    | ########## | 100% \n",
      "Preparing transaction: ...working... done\n",
      "Verifying transaction: ...working... done\n",
      "Executing transaction: ...working... done\n",
      "\n",
      "Note: you may need to restart the kernel to use updated packages.\n"
     ]
    }
   ],
   "source": [
    "conda install -c districtdatalabs yellowbrick"
   ]
  },
  {
   "cell_type": "code",
   "execution_count": 62,
   "metadata": {},
   "outputs": [],
   "source": [
    "from sklearn.cluster import KMeans\n",
    "from yellowbrick.cluster import KElbowVisualizer"
   ]
  },
  {
   "cell_type": "code",
   "execution_count": 71,
   "metadata": {},
   "outputs": [],
   "source": [
    "## Menggunakan metode elbow untuk menentukan angka cluster yang tepat\n",
    "model = KMeans(random_state=0)\n",
    "visualizer = KElbowVisualizer(model, k=(2,10), metric='silhouette', timings=False)"
   ]
  },
  {
   "cell_type": "code",
   "execution_count": 72,
   "metadata": {},
   "outputs": [
    {
     "data": {
      "image/png": "[encoded data removed]",
      "text/plain": [
       "<Figure size 576x396 with 1 Axes>"
      ]
     },
     "metadata": {},
     "output_type": "display_data"
    },
    {
     "data": {
      "text/plain": [
       "<matplotlib.axes._subplots.AxesSubplot at 0xe3d7c50>"
      ]
     },
     "execution_count": 72,
     "metadata": {},
     "output_type": "execute_result"
    }
   ],
   "source": [
    "#fit data dan visualisasi\n",
    "visualizer.fit(X)    \n",
    "visualizer.poof()"
   ]
  },
  {
   "cell_type": "markdown",
   "metadata": {},
   "source": [
    "Berdasarkan visualisasi, dapat dilihat bahwa bentuk elbow (siku) terlihat saat jumlah kluster adalah 3. Oleh karena itu, dapat tentukan bahwa jumlah K yang baik adalah 3."
   ]
  },
  {
   "cell_type": "code",
   "execution_count": 73,
   "metadata": {},
   "outputs": [],
   "source": [
    "# Menjalankan K-Means Clustering ke dataset\n",
    "kmeans = KMeans(n_clusters = 3, init = 'k-means++', random_state = 0)\n",
    "y_kmeans = kmeans.fit_predict(X)"
   ]
  },
  {
   "cell_type": "code",
   "execution_count": 74,
   "metadata": {},
   "outputs": [
    {
     "name": "stdout",
     "output_type": "stream",
     "text": [
      "[[42.6         7.10088193]\n",
      " [28.1         7.31367301]\n",
      " [57.4         7.18475388]]\n"
     ]
    }
   ],
   "source": [
    "#nilai centroid pada tiap cluster\n",
    "print(kmeans.cluster_centers_)"
   ]
  },
  {
   "cell_type": "code",
   "execution_count": 75,
   "metadata": {},
   "outputs": [
    {
     "name": "stdout",
     "output_type": "stream",
     "text": [
      "[2 2 2 2 2 0 0 0 0 0 0 0 0 0 0 0 0 0 0 0 1 1 1 1 1 1 1 1 1 1]\n"
     ]
    }
   ],
   "source": [
    "print(kmeans.labels_)"
   ]
  },
  {
   "cell_type": "code",
   "execution_count": 76,
   "metadata": {},
   "outputs": [
    {
     "data": {
      "image/png": "[encoded data removed]",
      "text/plain": [
       "<Figure size 576x396 with 1 Axes>"
      ]
     },
     "metadata": {},
     "output_type": "display_data"
    }
   ],
   "source": [
    "# Visualisasi hasil clusters\n",
    "plt.scatter(X[y_kmeans == 0, 0], X[y_kmeans == 0, 1], s = 100, c = 'red', label = 'Cluster 1')\n",
    "plt.scatter(X[y_kmeans == 1, 0], X[y_kmeans == 1, 1], s = 100, c = 'blue', label = 'Cluster 2')\n",
    "plt.scatter(X[y_kmeans == 2, 0], X[y_kmeans == 2, 1], s = 100, c = 'green', label = 'Cluster 3')\n",
    "plt.scatter(kmeans.cluster_centers_[:, 0], kmeans.cluster_centers_[:, 1], s = 300, c = 'black', label = 'Centroids')\n",
    "plt.title('Hasil Cluster')\n",
    "plt.xlabel('Usia')\n",
    "plt.ylabel('Nilai')\n",
    "plt.legend()\n",
    "plt.show()"
   ]
  },
  {
   "cell_type": "code",
   "execution_count": 58,
   "metadata": {},
   "outputs": [
    {
     "data": {
      "image/png": "[encoded data removed]",
      "text/plain": [
       "<Figure size 576x396 with 1 Axes>"
      ]
     },
     "metadata": {},
     "output_type": "display_data"
    }
   ],
   "source": [
    "#Linechart 'Nilai' dan 'Id_peserta'\n",
    "plt.plot( 'ID PERSON','Nilai', data=data, color='skyblue')\n",
    "plt.show()"
   ]
  }
 ],
 "metadata": {
  "kernelspec": {
   "display_name": "Python 3",
   "language": "python",
   "name": "python3"
  },
  "language_info": {
   "codemirror_mode": {
    "name": "ipython",
    "version": 3
   },
   "file_extension": ".py",
   "mimetype": "text/x-python",
   "name": "python",
   "nbconvert_exporter": "python",
   "pygments_lexer": "ipython3",
   "version": "3.7.3"
  }
 },
 "nbformat": 4,
 "nbformat_minor": 2
}
